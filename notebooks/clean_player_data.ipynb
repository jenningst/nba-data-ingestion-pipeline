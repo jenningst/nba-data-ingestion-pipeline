{
 "cells": [
  {
   "cell_type": "markdown",
   "source": [
    "# Clean Player Data\n",
    "The player_data.csv dataset is an export from Basketball Monster. This cleansing process prepares the player_data dataset for insertion into a PostgreSQL instance hosted on AWS RDS."
   ],
   "metadata": {}
  },
  {
   "cell_type": "code",
   "execution_count": 327,
   "source": [
    "import pandas as pd\n",
    "import numpy as np\n",
    "\n",
    "# Setup prettier printing\n",
    "pd.set_option('expand_frame_repr', False)"
   ],
   "outputs": [],
   "metadata": {}
  },
  {
   "cell_type": "code",
   "execution_count": 328,
   "source": [
    "# Read in the player dataset\n",
    "player_df = pd.read_csv(\n",
    "\t'../src/data/raw/player_data.csv',\n",
    "\t\tsep=',',\n",
    "\t\theader=0,\n",
    "\t\tencoding='utf-8',\n",
    "\t\tskip_blank_lines=True,\n",
    "\t\tdtype={\n",
    "\t\t\t'Name': pd.StringDtype(),\n",
    "\t\t\t'Team': pd.StringDtype(),\n",
    "\t\t\t'Pos': pd.StringDtype(),\n",
    "\t\t\t'Draft': pd.StringDtype()\n",
    "\t\t}\n",
    ")\n",
    "print(player_df.sample(5))"
   ],
   "outputs": [
    {
     "output_type": "stream",
     "name": "stdout",
     "text": [
      "               Name Team   Pos   Age    Draft\n",
      "384  Tremont Waters  BOS    PG  23.5  2019 51\n",
      "199  Xavier Tillman  MEM  PF-C  22.5  2020 35\n",
      "420      Trey Lyles  SAS  PF-C  25.7  2015 12\n",
      "295     Aron Baynes  TOR     C  34.6  2009 20\n",
      "328   Frank Jackson  DET    PG  23.2  2017 31\n"
     ]
    }
   ],
   "metadata": {}
  },
  {
   "cell_type": "markdown",
   "source": [
    "## Preprocessing\n",
    "Here we conduct some standard preparation for the dataset:\n",
    "* Converting all column headings to lowercase for consistent column access"
   ],
   "metadata": {}
  },
  {
   "cell_type": "code",
   "execution_count": 329,
   "source": [
    "# Convert headings to lowercase\n",
    "player_df.columns = player_df.columns.str.lower()\n",
    "print(player_df.columns)\n"
   ],
   "outputs": [
    {
     "output_type": "stream",
     "name": "stdout",
     "text": [
      "Index(['name', 'team', 'pos', 'age', 'draft'], dtype='object')\n"
     ]
    }
   ],
   "metadata": {}
  },
  {
   "cell_type": "markdown",
   "source": [
    "## Data Cleaning\n",
    "* Check for null data"
   ],
   "metadata": {}
  },
  {
   "cell_type": "code",
   "execution_count": 330,
   "source": [
    "# Check for null values\n",
    "player_df.isnull().sum()\n"
   ],
   "outputs": [
    {
     "output_type": "execute_result",
     "data": {
      "text/plain": [
       "name     0\n",
       "team     0\n",
       "pos      0\n",
       "age      0\n",
       "draft    0\n",
       "dtype: int64"
      ]
     },
     "metadata": {},
     "execution_count": 330
    }
   ],
   "metadata": {}
  },
  {
   "cell_type": "markdown",
   "source": [
    "## Data Transformation\n",
    "* Check for duplicate data\n",
    "* Check for irregular data\n",
    "\t* Team abbreviations\n",
    "\t* Player ages"
   ],
   "metadata": {}
  },
  {
   "cell_type": "code",
   "execution_count": 331,
   "source": [
    "# Check for duplicate players\n",
    "player_df.duplicated(subset=['name']).sum()"
   ],
   "outputs": [
    {
     "output_type": "execute_result",
     "data": {
      "text/plain": [
       "0"
      ]
     },
     "metadata": {},
     "execution_count": 331
    }
   ],
   "metadata": {}
  },
  {
   "cell_type": "code",
   "execution_count": 332,
   "source": [
    "# Check for irregular team abbreviations\n",
    "player_df['team'].sort_values().unique()"
   ],
   "outputs": [
    {
     "output_type": "execute_result",
     "data": {
      "text/plain": [
       "<StringArray>\n",
       "['ATL', 'BKN', 'BOS', 'CHA', 'CHI', 'CLE', 'DAL', 'DEN', 'DET',  'FA', 'GSW',\n",
       " 'HOU', 'IND', 'LAC', 'LAL', 'MEM', 'MIA', 'MIL', 'MIN', 'NOR', 'NYK', 'OKC',\n",
       " 'ORL', 'PHI', 'PHX', 'POR', 'SAC', 'SAS', 'TOR', 'UTA', 'WAS']\n",
       "Length: 31, dtype: string"
      ]
     },
     "metadata": {},
     "execution_count": 332
    }
   ],
   "metadata": {}
  },
  {
   "cell_type": "markdown",
   "source": [
    "We immediately notice that there is a 'FA' designation for team which represents a player that was a free agent at the time the data was gathered. We also notice that New Orleans ('NOR') is misaligned with the official abbreviation ('NOP')"
   ],
   "metadata": {}
  },
  {
   "cell_type": "code",
   "execution_count": 333,
   "source": [
    "# Transform irregular team abbreviations\n",
    "player_df['team'].replace({'NOR': 'NOP'}, inplace=True)"
   ],
   "outputs": [],
   "metadata": {}
  },
  {
   "cell_type": "code",
   "execution_count": 334,
   "source": [
    "# Check for irregular player ages\n",
    "player_df['age'].sort_values().describe()"
   ],
   "outputs": [
    {
     "output_type": "execute_result",
     "data": {
      "text/plain": [
       "count    432.000000\n",
       "mean      26.839815\n",
       "std        4.142641\n",
       "min       19.500000\n",
       "25%       23.475000\n",
       "50%       26.300000\n",
       "75%       29.725000\n",
       "max       37.400000\n",
       "Name: age, dtype: float64"
      ]
     },
     "metadata": {},
     "execution_count": 334
    }
   ],
   "metadata": {}
  },
  {
   "cell_type": "markdown",
   "source": [
    "Next, we create individual columns from aggregated columns to split name column into first and last names, split the draft column draft year and draft position, and split position into unique position abbreviations (i.e., PG, SG, SF, PF, C)."
   ],
   "metadata": {}
  },
  {
   "cell_type": "code",
   "execution_count": 335,
   "source": [
    "# Split 'name' column, 'draft' column, and 'pos' columns into respective columns\n",
    "\n",
    "player_df[['first_name', 'last_name']] = player_df['name'].str.split(' ', 1, expand=True)\n",
    "player_df[['draft_year', 'draft_pick']] = player_df['draft'].str.split(expand=True)\n",
    "positions = player_df['pos'].str.split('-', expand=True).rename(\n",
    "\tcolumns={\n",
    "\t\t0: 'position_primary',\n",
    "\t\t1: 'position_secondary',\n",
    "\t\t2: 'position_tertiary'\n",
    "\t}).fillna(np.nan)\n",
    "\n",
    "player_df['position_primary'] = positions['position_primary']\n",
    "player_df['position_secondary'] = positions['position_secondary']\n",
    "player_df['position_tertiary'] = positions['position_tertiary']\n",
    "\n",
    "# Use 'age' column to calculate new column 'birth_year'\n",
    "player_df['age'] = player_df['age'].apply(lambda x: round(2021.55 - x))\n",
    "player_df.rename(\n",
    "\tcolumns={\n",
    "\t\t'age': 'birth_year'\n",
    "\t}, inplace=True)\n",
    "\n",
    "# Cast draft_year and draft_pick into numeric\n",
    "player_df['draft_year'] = pd.to_numeric(player_df['draft_year'], downcast='integer')\n",
    "player_df['draft_pick'] = pd.to_numeric(player_df['draft_pick'], downcast='integer')\n",
    "\n",
    "# Check the datatypes\n",
    "print(player_df.dtypes)\n"
   ],
   "outputs": [
    {
     "output_type": "stream",
     "name": "stdout",
     "text": [
      "name                   string\n",
      "team                   object\n",
      "pos                    string\n",
      "birth_year              int64\n",
      "draft                  string\n",
      "first_name             string\n",
      "last_name              string\n",
      "draft_year              int16\n",
      "draft_pick            float64\n",
      "position_primary       string\n",
      "position_secondary     string\n",
      "position_tertiary      string\n",
      "dtype: object\n"
     ]
    }
   ],
   "metadata": {}
  },
  {
   "cell_type": "code",
   "execution_count": 336,
   "source": [
    "# Fill NaN draft picks with 0 to avoid database insertion errors\n",
    "player_df['draft_pick'].fillna(0, inplace=True)\n",
    "\n",
    "# Verify no NaN\n",
    "player_df['draft_pick'].isnull().sum()\n"
   ],
   "outputs": [
    {
     "output_type": "execute_result",
     "data": {
      "text/plain": [
       "0"
      ]
     },
     "metadata": {},
     "execution_count": 336
    }
   ],
   "metadata": {}
  },
  {
   "cell_type": "code",
   "execution_count": 337,
   "source": [
    "# Check for irregular draft years and picks\n",
    "player_df['draft_year'].describe()\n"
   ],
   "outputs": [
    {
     "output_type": "execute_result",
     "data": {
      "text/plain": [
       "count     432.000000\n",
       "mean     2015.145833\n",
       "std         4.054104\n",
       "min      2003.000000\n",
       "25%      2013.000000\n",
       "50%      2016.000000\n",
       "75%      2019.000000\n",
       "max      2020.000000\n",
       "Name: draft_year, dtype: float64"
      ]
     },
     "metadata": {},
     "execution_count": 337
    }
   ],
   "metadata": {}
  },
  {
   "cell_type": "code",
   "execution_count": 338,
   "source": [
    "player_df.draft_year.unique()"
   ],
   "outputs": [
    {
     "output_type": "execute_result",
     "data": {
      "text/plain": [
       "array([2014, 2012, 2009, 2005, 2018, 2013, 2011, 2010, 2017, 2015, 2016,\n",
       "       2008, 2007, 2019, 2003, 2020, 2006, 2004], dtype=int16)"
      ]
     },
     "metadata": {},
     "execution_count": 338
    }
   ],
   "metadata": {}
  },
  {
   "cell_type": "code",
   "execution_count": 339,
   "source": [
    "player_df['draft_pick'].describe()"
   ],
   "outputs": [
    {
     "output_type": "execute_result",
     "data": {
      "text/plain": [
       "count    432.000000\n",
       "mean      21.293981\n",
       "std       14.114847\n",
       "min        0.000000\n",
       "25%       10.000000\n",
       "50%       20.000000\n",
       "75%       29.000000\n",
       "max       60.000000\n",
       "Name: draft_pick, dtype: float64"
      ]
     },
     "metadata": {},
     "execution_count": 339
    }
   ],
   "metadata": {}
  },
  {
   "cell_type": "code",
   "execution_count": 340,
   "source": [
    "player_df.draft_pick.sort_values().unique()"
   ],
   "outputs": [
    {
     "output_type": "execute_result",
     "data": {
      "text/plain": [
       "array([ 0.,  1.,  2.,  3.,  4.,  5.,  6.,  7.,  8.,  9., 10., 11., 12.,\n",
       "       13., 14., 15., 16., 17., 18., 19., 20., 21., 22., 23., 24., 25.,\n",
       "       26., 27., 28., 29., 30., 31., 32., 33., 34., 35., 36., 37., 38.,\n",
       "       39., 40., 41., 42., 43., 44., 45., 46., 47., 48., 49., 50., 51.,\n",
       "       52., 54., 55., 57., 58., 59., 60.])"
      ]
     },
     "metadata": {},
     "execution_count": 340
    }
   ],
   "metadata": {}
  },
  {
   "cell_type": "markdown",
   "source": [
    "We notice there are some gaps in draft picks. We don't have any results for draft picks:\n",
    "* 53\n",
    "* 56"
   ],
   "metadata": {}
  },
  {
   "cell_type": "code",
   "execution_count": 341,
   "source": [
    "# Check for irregular birthyears\n",
    "player_df.birth_year.describe()"
   ],
   "outputs": [
    {
     "output_type": "execute_result",
     "data": {
      "text/plain": [
       "count     432.000000\n",
       "mean     1994.717593\n",
       "std         4.144027\n",
       "min      1984.000000\n",
       "25%      1992.000000\n",
       "50%      1995.000000\n",
       "75%      1998.000000\n",
       "max      2002.000000\n",
       "Name: birth_year, dtype: float64"
      ]
     },
     "metadata": {},
     "execution_count": 341
    }
   ],
   "metadata": {}
  },
  {
   "cell_type": "code",
   "execution_count": 342,
   "source": [
    "player_df.birth_year.sort_values().unique()"
   ],
   "outputs": [
    {
     "output_type": "execute_result",
     "data": {
      "text/plain": [
       "array([1984, 1985, 1986, 1987, 1988, 1989, 1990, 1991, 1992, 1993, 1994,\n",
       "       1995, 1996, 1997, 1998, 1999, 2000, 2001, 2002])"
      ]
     },
     "metadata": {},
     "execution_count": 342
    }
   ],
   "metadata": {}
  },
  {
   "cell_type": "code",
   "execution_count": 343,
   "source": [
    "# Fix faulty birth years for players born in Jan/Dec\n",
    "modified_birth_years = [\n",
    "\t['Buddy', 'Hield', 1992],\n",
    "\t['LeBron', 'James', 1984],\n",
    "\t['De\\'Aaron', 'Fox', 1997],\n",
    "\t['Torrey', 'Craig', 1990],\n",
    "\t['Edmond', 'Sumner', 1995],\n",
    "\t['Gorgui', 'Dieng', 1990],\n",
    "\t['Aleksej', 'Pokusevski', 2001],\n",
    "\t['Eric', 'Gordon', 1988],\n",
    "\t['Sekou', 'Doumbouya', 2000],\n",
    "\t['Jahlil', 'Okafor', 1995],\n",
    "\t['Wesley', 'Iwundu', 1994],\n",
    "\t['Paul', 'Watson', 1994]\n",
    "]\n",
    "for i in modified_birth_years:\n",
    "\t# Locate the rows for each of the players in modified_birth_years and update each birth year\n",
    "\tplayer_df.loc[(player_df['first_name'] == i[0]) & (player_df['last_name'] == i[1]), 'birth_year'] = i[2]"
   ],
   "outputs": [],
   "metadata": {}
  },
  {
   "cell_type": "code",
   "execution_count": 358,
   "source": [
    "player_df.sort_index(inplace=True)\n",
    "player_df['player_id'] = player_df.index\n",
    "player_df.player_id = player_df.player_id + 1\n",
    "player_df.head(10)"
   ],
   "outputs": [
    {
     "output_type": "execute_result",
     "data": {
      "text/plain": [
       "   birth_year first_name      last_name  draft_year  draft_pick  player_id\n",
       "0        1996     Nikola          Jokic        2014        41.0          1\n",
       "1        1991     Damian        Lillard        2012         6.0          2\n",
       "2        1988    Stephen          Curry        2009         7.0          3\n",
       "3        1985      Chris           Paul        2005         4.0          4\n",
       "4        1999       Trae          Young        2018         5.0          5\n",
       "5        1992      Khris      Middleton        2012        39.0          6\n",
       "6        1994       Joel         Embiid        2014         3.0          7\n",
       "7        1995    Giannis  Antetokounmpo        2013        15.0          8\n",
       "8        1992      Kawhi        Leonard        2011        15.0          9\n",
       "9        1993       Rudy         Gobert        2013        27.0         10"
      ],
      "text/html": [
       "<div>\n",
       "<style scoped>\n",
       "    .dataframe tbody tr th:only-of-type {\n",
       "        vertical-align: middle;\n",
       "    }\n",
       "\n",
       "    .dataframe tbody tr th {\n",
       "        vertical-align: top;\n",
       "    }\n",
       "\n",
       "    .dataframe thead th {\n",
       "        text-align: right;\n",
       "    }\n",
       "</style>\n",
       "<table border=\"1\" class=\"dataframe\">\n",
       "  <thead>\n",
       "    <tr style=\"text-align: right;\">\n",
       "      <th></th>\n",
       "      <th>birth_year</th>\n",
       "      <th>first_name</th>\n",
       "      <th>last_name</th>\n",
       "      <th>draft_year</th>\n",
       "      <th>draft_pick</th>\n",
       "      <th>player_id</th>\n",
       "    </tr>\n",
       "  </thead>\n",
       "  <tbody>\n",
       "    <tr>\n",
       "      <th>0</th>\n",
       "      <td>1996</td>\n",
       "      <td>Nikola</td>\n",
       "      <td>Jokic</td>\n",
       "      <td>2014</td>\n",
       "      <td>41.0</td>\n",
       "      <td>1</td>\n",
       "    </tr>\n",
       "    <tr>\n",
       "      <th>1</th>\n",
       "      <td>1991</td>\n",
       "      <td>Damian</td>\n",
       "      <td>Lillard</td>\n",
       "      <td>2012</td>\n",
       "      <td>6.0</td>\n",
       "      <td>2</td>\n",
       "    </tr>\n",
       "    <tr>\n",
       "      <th>2</th>\n",
       "      <td>1988</td>\n",
       "      <td>Stephen</td>\n",
       "      <td>Curry</td>\n",
       "      <td>2009</td>\n",
       "      <td>7.0</td>\n",
       "      <td>3</td>\n",
       "    </tr>\n",
       "    <tr>\n",
       "      <th>3</th>\n",
       "      <td>1985</td>\n",
       "      <td>Chris</td>\n",
       "      <td>Paul</td>\n",
       "      <td>2005</td>\n",
       "      <td>4.0</td>\n",
       "      <td>4</td>\n",
       "    </tr>\n",
       "    <tr>\n",
       "      <th>4</th>\n",
       "      <td>1999</td>\n",
       "      <td>Trae</td>\n",
       "      <td>Young</td>\n",
       "      <td>2018</td>\n",
       "      <td>5.0</td>\n",
       "      <td>5</td>\n",
       "    </tr>\n",
       "    <tr>\n",
       "      <th>5</th>\n",
       "      <td>1992</td>\n",
       "      <td>Khris</td>\n",
       "      <td>Middleton</td>\n",
       "      <td>2012</td>\n",
       "      <td>39.0</td>\n",
       "      <td>6</td>\n",
       "    </tr>\n",
       "    <tr>\n",
       "      <th>6</th>\n",
       "      <td>1994</td>\n",
       "      <td>Joel</td>\n",
       "      <td>Embiid</td>\n",
       "      <td>2014</td>\n",
       "      <td>3.0</td>\n",
       "      <td>7</td>\n",
       "    </tr>\n",
       "    <tr>\n",
       "      <th>7</th>\n",
       "      <td>1995</td>\n",
       "      <td>Giannis</td>\n",
       "      <td>Antetokounmpo</td>\n",
       "      <td>2013</td>\n",
       "      <td>15.0</td>\n",
       "      <td>8</td>\n",
       "    </tr>\n",
       "    <tr>\n",
       "      <th>8</th>\n",
       "      <td>1992</td>\n",
       "      <td>Kawhi</td>\n",
       "      <td>Leonard</td>\n",
       "      <td>2011</td>\n",
       "      <td>15.0</td>\n",
       "      <td>9</td>\n",
       "    </tr>\n",
       "    <tr>\n",
       "      <th>9</th>\n",
       "      <td>1993</td>\n",
       "      <td>Rudy</td>\n",
       "      <td>Gobert</td>\n",
       "      <td>2013</td>\n",
       "      <td>27.0</td>\n",
       "      <td>10</td>\n",
       "    </tr>\n",
       "  </tbody>\n",
       "</table>\n",
       "</div>"
      ]
     },
     "metadata": {},
     "execution_count": 358
    }
   ],
   "metadata": {}
  },
  {
   "cell_type": "code",
   "execution_count": 345,
   "source": [
    "# Export intermediate data\n",
    "player_df.to_csv(path_or_buf='../src/data/intermediate/players_intermediate.csv')"
   ],
   "outputs": [],
   "metadata": {}
  },
  {
   "cell_type": "code",
   "execution_count": 346,
   "source": [
    "# Inspect the current index for the dataset\n",
    "player_df.index"
   ],
   "outputs": [
    {
     "output_type": "execute_result",
     "data": {
      "text/plain": [
       "RangeIndex(start=0, stop=432, step=1)"
      ]
     },
     "metadata": {},
     "execution_count": 346
    }
   ],
   "metadata": {}
  },
  {
   "cell_type": "markdown",
   "source": [
    "# Generating Derivative Datasets\n",
    "In the following steps we use the cleaning steps above to generate additional datasets for:\n",
    "* **Player position** information which includes:\n",
    "\t* Player index (pandas-generated)\n",
    "\t* Primary position\n",
    "\t* Secondary position\n",
    "\t* Tertiary position\n",
    "* **Player team** information which includes:\n",
    "\t* Player index (pandas-generated)\n",
    "\t* Team ID\n",
    "* **Player master** information which includes:\n",
    "\t* Player index (pandas-generated)\n",
    "\t* First name\n",
    "\t* Last name\n",
    "\t* Birth year\n",
    "\t* Draft year\n",
    "\t* Draft pick"
   ],
   "metadata": {}
  },
  {
   "cell_type": "markdown",
   "source": [
    "## Player Position"
   ],
   "metadata": {}
  },
  {
   "cell_type": "code",
   "execution_count": 347,
   "source": [
    "# Create a copy of player_data_df for the new dataset\n",
    "player_position_df = player_df.copy()"
   ],
   "outputs": [],
   "metadata": {}
  },
  {
   "cell_type": "code",
   "execution_count": 348,
   "source": [
    "# Filter by 2020 season only because positions are only avaiable for the last season\n",
    "player_position_df['season'] = 2020\n",
    "\n",
    "# Drop all columns except for the specified columns\n",
    "player_position_df.drop(player_position_df.columns.difference(['player_id', 'position_primary', 'position_secondary', 'position_tertiary']), axis=1, inplace=True)\n",
    "\n",
    "# Reorder to match schema\n",
    "player_position_df = player_position_df[[\n",
    "\t'player_id',\n",
    "\t'position_primary',\n",
    "\t'position_secondary',\n",
    "\t'position_tertiary'\n",
    "]]\n",
    "\n",
    "print(player_position_df.head(10))"
   ],
   "outputs": [
    {
     "output_type": "stream",
     "name": "stdout",
     "text": [
      "   player_id position_primary position_secondary position_tertiary\n",
      "0          0               PF                  C              <NA>\n",
      "1          1               PG               <NA>              <NA>\n",
      "2          2               PG                 SG              <NA>\n",
      "3          3               PG               <NA>              <NA>\n",
      "4          4               PG               <NA>              <NA>\n",
      "5          5               SF                 PF              <NA>\n",
      "6          6               PF                  C              <NA>\n",
      "7          7               PF                  C              <NA>\n",
      "8          8               SG                 SF              <NA>\n",
      "9          9                C               <NA>              <NA>\n"
     ]
    }
   ],
   "metadata": {}
  },
  {
   "cell_type": "markdown",
   "source": [
    "## Player Team"
   ],
   "metadata": {}
  },
  {
   "cell_type": "code",
   "execution_count": 349,
   "source": [
    "# Create a copy of player_data_df for the new dataset\n",
    "player_team_df = player_df.copy()\n",
    "player_team_df.sample(5)"
   ],
   "outputs": [
    {
     "output_type": "execute_result",
     "data": {
      "text/plain": [
       "                   name team      pos  birth_year    draft first_name  last_name  draft_year  draft_pick position_primary position_secondary position_tertiary  player_id\n",
       "6           Joel Embiid  PHI     PF-C        1994   2014 3       Joel     Embiid        2014         3.0               PF                  C              <NA>          6\n",
       "239           Dean Wade  CLE  PG-PF-C        1997  2019 20       Dean       Wade        2019        20.0               PG                 PF                 C        239\n",
       "386  Chandler Hutchison  WAS    SF-PF        1996  2018 22   Chandler  Hutchison        2018        22.0               SF                 PF              <NA>        386\n",
       "115       Anthony Davis  LAL     PF-C        1993   2012 1    Anthony      Davis        2012         1.0               PF                  C              <NA>        115\n",
       "9           Rudy Gobert  UTA        C        1993  2013 27       Rudy     Gobert        2013        27.0                C               <NA>              <NA>          9"
      ],
      "text/html": [
       "<div>\n",
       "<style scoped>\n",
       "    .dataframe tbody tr th:only-of-type {\n",
       "        vertical-align: middle;\n",
       "    }\n",
       "\n",
       "    .dataframe tbody tr th {\n",
       "        vertical-align: top;\n",
       "    }\n",
       "\n",
       "    .dataframe thead th {\n",
       "        text-align: right;\n",
       "    }\n",
       "</style>\n",
       "<table border=\"1\" class=\"dataframe\">\n",
       "  <thead>\n",
       "    <tr style=\"text-align: right;\">\n",
       "      <th></th>\n",
       "      <th>name</th>\n",
       "      <th>team</th>\n",
       "      <th>pos</th>\n",
       "      <th>birth_year</th>\n",
       "      <th>draft</th>\n",
       "      <th>first_name</th>\n",
       "      <th>last_name</th>\n",
       "      <th>draft_year</th>\n",
       "      <th>draft_pick</th>\n",
       "      <th>position_primary</th>\n",
       "      <th>position_secondary</th>\n",
       "      <th>position_tertiary</th>\n",
       "      <th>player_id</th>\n",
       "    </tr>\n",
       "  </thead>\n",
       "  <tbody>\n",
       "    <tr>\n",
       "      <th>6</th>\n",
       "      <td>Joel Embiid</td>\n",
       "      <td>PHI</td>\n",
       "      <td>PF-C</td>\n",
       "      <td>1994</td>\n",
       "      <td>2014 3</td>\n",
       "      <td>Joel</td>\n",
       "      <td>Embiid</td>\n",
       "      <td>2014</td>\n",
       "      <td>3.0</td>\n",
       "      <td>PF</td>\n",
       "      <td>C</td>\n",
       "      <td>&lt;NA&gt;</td>\n",
       "      <td>6</td>\n",
       "    </tr>\n",
       "    <tr>\n",
       "      <th>239</th>\n",
       "      <td>Dean Wade</td>\n",
       "      <td>CLE</td>\n",
       "      <td>PG-PF-C</td>\n",
       "      <td>1997</td>\n",
       "      <td>2019 20</td>\n",
       "      <td>Dean</td>\n",
       "      <td>Wade</td>\n",
       "      <td>2019</td>\n",
       "      <td>20.0</td>\n",
       "      <td>PG</td>\n",
       "      <td>PF</td>\n",
       "      <td>C</td>\n",
       "      <td>239</td>\n",
       "    </tr>\n",
       "    <tr>\n",
       "      <th>386</th>\n",
       "      <td>Chandler Hutchison</td>\n",
       "      <td>WAS</td>\n",
       "      <td>SF-PF</td>\n",
       "      <td>1996</td>\n",
       "      <td>2018 22</td>\n",
       "      <td>Chandler</td>\n",
       "      <td>Hutchison</td>\n",
       "      <td>2018</td>\n",
       "      <td>22.0</td>\n",
       "      <td>SF</td>\n",
       "      <td>PF</td>\n",
       "      <td>&lt;NA&gt;</td>\n",
       "      <td>386</td>\n",
       "    </tr>\n",
       "    <tr>\n",
       "      <th>115</th>\n",
       "      <td>Anthony Davis</td>\n",
       "      <td>LAL</td>\n",
       "      <td>PF-C</td>\n",
       "      <td>1993</td>\n",
       "      <td>2012 1</td>\n",
       "      <td>Anthony</td>\n",
       "      <td>Davis</td>\n",
       "      <td>2012</td>\n",
       "      <td>1.0</td>\n",
       "      <td>PF</td>\n",
       "      <td>C</td>\n",
       "      <td>&lt;NA&gt;</td>\n",
       "      <td>115</td>\n",
       "    </tr>\n",
       "    <tr>\n",
       "      <th>9</th>\n",
       "      <td>Rudy Gobert</td>\n",
       "      <td>UTA</td>\n",
       "      <td>C</td>\n",
       "      <td>1993</td>\n",
       "      <td>2013 27</td>\n",
       "      <td>Rudy</td>\n",
       "      <td>Gobert</td>\n",
       "      <td>2013</td>\n",
       "      <td>27.0</td>\n",
       "      <td>C</td>\n",
       "      <td>&lt;NA&gt;</td>\n",
       "      <td>&lt;NA&gt;</td>\n",
       "      <td>9</td>\n",
       "    </tr>\n",
       "  </tbody>\n",
       "</table>\n",
       "</div>"
      ]
     },
     "metadata": {},
     "execution_count": 349
    }
   ],
   "metadata": {}
  },
  {
   "cell_type": "code",
   "execution_count": 350,
   "source": [
    "# Read in the dataset\n",
    "team_df = pd.read_csv(\n",
    "\t'../src/data/intermediate/teams_intermediate.csv',\n",
    "\t\tsep=',',\n",
    "\t\theader=0,\n",
    "\t\tencoding='utf-8',\n",
    "\t\tskip_blank_lines=True\n",
    ")\n",
    "team_df.sample(5)"
   ],
   "outputs": [
    {
     "output_type": "execute_result",
     "data": {
      "text/plain": [
       "       team_id          name shortname             city state conference   division\n",
       "14  1610612764       Wizards       WAS  Washington D.C.    DC       East  Southeast\n",
       "10  1610612737         Hawks       ATL          Atlanta    GA       East  Southeast\n",
       "11  1610612766       Hornets       CHA        Charlotte    NC       East  Southeast\n",
       "2   1610612752        Knicks       NYK    New York City    NY       East   Atlantic\n",
       "16  1610612750  Timberwolves       MIN      Minneapolis    MN       West  Northwest"
      ],
      "text/html": [
       "<div>\n",
       "<style scoped>\n",
       "    .dataframe tbody tr th:only-of-type {\n",
       "        vertical-align: middle;\n",
       "    }\n",
       "\n",
       "    .dataframe tbody tr th {\n",
       "        vertical-align: top;\n",
       "    }\n",
       "\n",
       "    .dataframe thead th {\n",
       "        text-align: right;\n",
       "    }\n",
       "</style>\n",
       "<table border=\"1\" class=\"dataframe\">\n",
       "  <thead>\n",
       "    <tr style=\"text-align: right;\">\n",
       "      <th></th>\n",
       "      <th>team_id</th>\n",
       "      <th>name</th>\n",
       "      <th>shortname</th>\n",
       "      <th>city</th>\n",
       "      <th>state</th>\n",
       "      <th>conference</th>\n",
       "      <th>division</th>\n",
       "    </tr>\n",
       "  </thead>\n",
       "  <tbody>\n",
       "    <tr>\n",
       "      <th>14</th>\n",
       "      <td>1610612764</td>\n",
       "      <td>Wizards</td>\n",
       "      <td>WAS</td>\n",
       "      <td>Washington D.C.</td>\n",
       "      <td>DC</td>\n",
       "      <td>East</td>\n",
       "      <td>Southeast</td>\n",
       "    </tr>\n",
       "    <tr>\n",
       "      <th>10</th>\n",
       "      <td>1610612737</td>\n",
       "      <td>Hawks</td>\n",
       "      <td>ATL</td>\n",
       "      <td>Atlanta</td>\n",
       "      <td>GA</td>\n",
       "      <td>East</td>\n",
       "      <td>Southeast</td>\n",
       "    </tr>\n",
       "    <tr>\n",
       "      <th>11</th>\n",
       "      <td>1610612766</td>\n",
       "      <td>Hornets</td>\n",
       "      <td>CHA</td>\n",
       "      <td>Charlotte</td>\n",
       "      <td>NC</td>\n",
       "      <td>East</td>\n",
       "      <td>Southeast</td>\n",
       "    </tr>\n",
       "    <tr>\n",
       "      <th>2</th>\n",
       "      <td>1610612752</td>\n",
       "      <td>Knicks</td>\n",
       "      <td>NYK</td>\n",
       "      <td>New York City</td>\n",
       "      <td>NY</td>\n",
       "      <td>East</td>\n",
       "      <td>Atlantic</td>\n",
       "    </tr>\n",
       "    <tr>\n",
       "      <th>16</th>\n",
       "      <td>1610612750</td>\n",
       "      <td>Timberwolves</td>\n",
       "      <td>MIN</td>\n",
       "      <td>Minneapolis</td>\n",
       "      <td>MN</td>\n",
       "      <td>West</td>\n",
       "      <td>Northwest</td>\n",
       "    </tr>\n",
       "  </tbody>\n",
       "</table>\n",
       "</div>"
      ]
     },
     "metadata": {},
     "execution_count": 350
    }
   ],
   "metadata": {}
  },
  {
   "cell_type": "code",
   "execution_count": 351,
   "source": [
    "# Merge with team_join to get the original id for the team\n",
    "player_team_df = pd.merge(\n",
    "\tplayer_team_df,\n",
    "\tteam_df,\n",
    "\tleft_on='team',\n",
    "\tright_on='shortname',\n",
    "\thow='outer',\n",
    "\tsuffixes=['_left', '_right']\n",
    ")\n",
    "player_team_df.head(5)"
   ],
   "outputs": [
    {
     "output_type": "execute_result",
     "data": {
      "text/plain": [
       "            name_left team    pos  birth_year    draft first_name   last_name  draft_year  draft_pick position_primary position_secondary position_tertiary  player_id       team_id name_right shortname    city state conference   division\n",
       "0        Nikola Jokic  DEN   PF-C        1996  2014 41     Nikola       Jokic        2014        41.0               PF                  C              <NA>          0  1.610613e+09    Nuggets       DEN  Denver    CO       West  Northwest\n",
       "1  Michael Porter Jr.  DEN  SF-PF        1999  2019 14    Michael  Porter Jr.        2019        14.0               SF                 PF              <NA>         31  1.610613e+09    Nuggets       DEN  Denver    CO       West  Northwest\n",
       "2        Jamal Murray  DEN  PG-SG        1997   2016 7      Jamal      Murray        2016         7.0               PG                 SG              <NA>         87  1.610613e+09    Nuggets       DEN  Denver    CO       West  Northwest\n",
       "3    Facundo Campazzo  DEN     PG        1991     2020    Facundo    Campazzo        2020         0.0               PG               <NA>              <NA>        119  1.610613e+09    Nuggets       DEN  Denver    CO       West  Northwest\n",
       "4         Will Barton  DEN  SG-SF        1991  2012 40       Will      Barton        2012        40.0               SG                 SF              <NA>        147  1.610613e+09    Nuggets       DEN  Denver    CO       West  Northwest"
      ],
      "text/html": [
       "<div>\n",
       "<style scoped>\n",
       "    .dataframe tbody tr th:only-of-type {\n",
       "        vertical-align: middle;\n",
       "    }\n",
       "\n",
       "    .dataframe tbody tr th {\n",
       "        vertical-align: top;\n",
       "    }\n",
       "\n",
       "    .dataframe thead th {\n",
       "        text-align: right;\n",
       "    }\n",
       "</style>\n",
       "<table border=\"1\" class=\"dataframe\">\n",
       "  <thead>\n",
       "    <tr style=\"text-align: right;\">\n",
       "      <th></th>\n",
       "      <th>name_left</th>\n",
       "      <th>team</th>\n",
       "      <th>pos</th>\n",
       "      <th>birth_year</th>\n",
       "      <th>draft</th>\n",
       "      <th>first_name</th>\n",
       "      <th>last_name</th>\n",
       "      <th>draft_year</th>\n",
       "      <th>draft_pick</th>\n",
       "      <th>position_primary</th>\n",
       "      <th>position_secondary</th>\n",
       "      <th>position_tertiary</th>\n",
       "      <th>player_id</th>\n",
       "      <th>team_id</th>\n",
       "      <th>name_right</th>\n",
       "      <th>shortname</th>\n",
       "      <th>city</th>\n",
       "      <th>state</th>\n",
       "      <th>conference</th>\n",
       "      <th>division</th>\n",
       "    </tr>\n",
       "  </thead>\n",
       "  <tbody>\n",
       "    <tr>\n",
       "      <th>0</th>\n",
       "      <td>Nikola Jokic</td>\n",
       "      <td>DEN</td>\n",
       "      <td>PF-C</td>\n",
       "      <td>1996</td>\n",
       "      <td>2014 41</td>\n",
       "      <td>Nikola</td>\n",
       "      <td>Jokic</td>\n",
       "      <td>2014</td>\n",
       "      <td>41.0</td>\n",
       "      <td>PF</td>\n",
       "      <td>C</td>\n",
       "      <td>&lt;NA&gt;</td>\n",
       "      <td>0</td>\n",
       "      <td>1.610613e+09</td>\n",
       "      <td>Nuggets</td>\n",
       "      <td>DEN</td>\n",
       "      <td>Denver</td>\n",
       "      <td>CO</td>\n",
       "      <td>West</td>\n",
       "      <td>Northwest</td>\n",
       "    </tr>\n",
       "    <tr>\n",
       "      <th>1</th>\n",
       "      <td>Michael Porter Jr.</td>\n",
       "      <td>DEN</td>\n",
       "      <td>SF-PF</td>\n",
       "      <td>1999</td>\n",
       "      <td>2019 14</td>\n",
       "      <td>Michael</td>\n",
       "      <td>Porter Jr.</td>\n",
       "      <td>2019</td>\n",
       "      <td>14.0</td>\n",
       "      <td>SF</td>\n",
       "      <td>PF</td>\n",
       "      <td>&lt;NA&gt;</td>\n",
       "      <td>31</td>\n",
       "      <td>1.610613e+09</td>\n",
       "      <td>Nuggets</td>\n",
       "      <td>DEN</td>\n",
       "      <td>Denver</td>\n",
       "      <td>CO</td>\n",
       "      <td>West</td>\n",
       "      <td>Northwest</td>\n",
       "    </tr>\n",
       "    <tr>\n",
       "      <th>2</th>\n",
       "      <td>Jamal Murray</td>\n",
       "      <td>DEN</td>\n",
       "      <td>PG-SG</td>\n",
       "      <td>1997</td>\n",
       "      <td>2016 7</td>\n",
       "      <td>Jamal</td>\n",
       "      <td>Murray</td>\n",
       "      <td>2016</td>\n",
       "      <td>7.0</td>\n",
       "      <td>PG</td>\n",
       "      <td>SG</td>\n",
       "      <td>&lt;NA&gt;</td>\n",
       "      <td>87</td>\n",
       "      <td>1.610613e+09</td>\n",
       "      <td>Nuggets</td>\n",
       "      <td>DEN</td>\n",
       "      <td>Denver</td>\n",
       "      <td>CO</td>\n",
       "      <td>West</td>\n",
       "      <td>Northwest</td>\n",
       "    </tr>\n",
       "    <tr>\n",
       "      <th>3</th>\n",
       "      <td>Facundo Campazzo</td>\n",
       "      <td>DEN</td>\n",
       "      <td>PG</td>\n",
       "      <td>1991</td>\n",
       "      <td>2020</td>\n",
       "      <td>Facundo</td>\n",
       "      <td>Campazzo</td>\n",
       "      <td>2020</td>\n",
       "      <td>0.0</td>\n",
       "      <td>PG</td>\n",
       "      <td>&lt;NA&gt;</td>\n",
       "      <td>&lt;NA&gt;</td>\n",
       "      <td>119</td>\n",
       "      <td>1.610613e+09</td>\n",
       "      <td>Nuggets</td>\n",
       "      <td>DEN</td>\n",
       "      <td>Denver</td>\n",
       "      <td>CO</td>\n",
       "      <td>West</td>\n",
       "      <td>Northwest</td>\n",
       "    </tr>\n",
       "    <tr>\n",
       "      <th>4</th>\n",
       "      <td>Will Barton</td>\n",
       "      <td>DEN</td>\n",
       "      <td>SG-SF</td>\n",
       "      <td>1991</td>\n",
       "      <td>2012 40</td>\n",
       "      <td>Will</td>\n",
       "      <td>Barton</td>\n",
       "      <td>2012</td>\n",
       "      <td>40.0</td>\n",
       "      <td>SG</td>\n",
       "      <td>SF</td>\n",
       "      <td>&lt;NA&gt;</td>\n",
       "      <td>147</td>\n",
       "      <td>1.610613e+09</td>\n",
       "      <td>Nuggets</td>\n",
       "      <td>DEN</td>\n",
       "      <td>Denver</td>\n",
       "      <td>CO</td>\n",
       "      <td>West</td>\n",
       "      <td>Northwest</td>\n",
       "    </tr>\n",
       "  </tbody>\n",
       "</table>\n",
       "</div>"
      ]
     },
     "metadata": {},
     "execution_count": 351
    }
   ],
   "metadata": {}
  },
  {
   "cell_type": "code",
   "execution_count": 352,
   "source": [
    "# Drop all columns except for the specified columns\n",
    "player_team_df.drop(player_team_df.columns.difference(['player_id', 'team_id']), axis=1, inplace=True)\n"
   ],
   "outputs": [],
   "metadata": {}
  },
  {
   "cell_type": "code",
   "execution_count": 353,
   "source": [
    "# Check team ids\n",
    "player_team_df.team_id.unique()\n",
    "\n",
    "# Replace null team ids with 0\n",
    "player_team_df.team_id.fillna(0, inplace=True)\n",
    "\n",
    "# Cast team_id to an int\n",
    "player_team_df.team_id = player_team_df.team_id.astype(int)\n",
    "\n",
    "player_team_df.head(5)\n"
   ],
   "outputs": [
    {
     "output_type": "execute_result",
     "data": {
      "text/plain": [
       "   player_id     team_id\n",
       "0          0  1610612743\n",
       "1         31  1610612743\n",
       "2         87  1610612743\n",
       "3        119  1610612743\n",
       "4        147  1610612743"
      ],
      "text/html": [
       "<div>\n",
       "<style scoped>\n",
       "    .dataframe tbody tr th:only-of-type {\n",
       "        vertical-align: middle;\n",
       "    }\n",
       "\n",
       "    .dataframe tbody tr th {\n",
       "        vertical-align: top;\n",
       "    }\n",
       "\n",
       "    .dataframe thead th {\n",
       "        text-align: right;\n",
       "    }\n",
       "</style>\n",
       "<table border=\"1\" class=\"dataframe\">\n",
       "  <thead>\n",
       "    <tr style=\"text-align: right;\">\n",
       "      <th></th>\n",
       "      <th>player_id</th>\n",
       "      <th>team_id</th>\n",
       "    </tr>\n",
       "  </thead>\n",
       "  <tbody>\n",
       "    <tr>\n",
       "      <th>0</th>\n",
       "      <td>0</td>\n",
       "      <td>1610612743</td>\n",
       "    </tr>\n",
       "    <tr>\n",
       "      <th>1</th>\n",
       "      <td>31</td>\n",
       "      <td>1610612743</td>\n",
       "    </tr>\n",
       "    <tr>\n",
       "      <th>2</th>\n",
       "      <td>87</td>\n",
       "      <td>1610612743</td>\n",
       "    </tr>\n",
       "    <tr>\n",
       "      <th>3</th>\n",
       "      <td>119</td>\n",
       "      <td>1610612743</td>\n",
       "    </tr>\n",
       "    <tr>\n",
       "      <th>4</th>\n",
       "      <td>147</td>\n",
       "      <td>1610612743</td>\n",
       "    </tr>\n",
       "  </tbody>\n",
       "</table>\n",
       "</div>"
      ]
     },
     "metadata": {},
     "execution_count": 353
    }
   ],
   "metadata": {}
  },
  {
   "cell_type": "markdown",
   "source": [
    "## Player Master"
   ],
   "metadata": {}
  },
  {
   "cell_type": "code",
   "execution_count": 356,
   "source": [
    "# Drop all columns except for the specified columns\n",
    "player_df.drop(\n",
    "\tplayer_df.columns.difference(\n",
    "\t\t['player_id', 'first_name', 'last_name', 'birth_year', 'draft_year', 'draft_pick']\n",
    "\t),\n",
    "\taxis=1,\n",
    "\tinplace=True)\n",
    "\t\n",
    "player_df.sample(5)"
   ],
   "outputs": [
    {
     "output_type": "execute_result",
     "data": {
      "text/plain": [
       "     birth_year first_name  last_name  draft_year  draft_pick  player_id\n",
       "205        1998     Payton  Pritchard        2020        26.0        205\n",
       "162        1997    Terance       Mann        2019        48.0        162\n",
       "228        1992     Victor    Oladipo        2013         2.0        228\n",
       "221        1998     Furkan    Korkmaz        2016        26.0        221\n",
       "429        1992     Rodney   McGruder        2013        20.0        429"
      ],
      "text/html": [
       "<div>\n",
       "<style scoped>\n",
       "    .dataframe tbody tr th:only-of-type {\n",
       "        vertical-align: middle;\n",
       "    }\n",
       "\n",
       "    .dataframe tbody tr th {\n",
       "        vertical-align: top;\n",
       "    }\n",
       "\n",
       "    .dataframe thead th {\n",
       "        text-align: right;\n",
       "    }\n",
       "</style>\n",
       "<table border=\"1\" class=\"dataframe\">\n",
       "  <thead>\n",
       "    <tr style=\"text-align: right;\">\n",
       "      <th></th>\n",
       "      <th>birth_year</th>\n",
       "      <th>first_name</th>\n",
       "      <th>last_name</th>\n",
       "      <th>draft_year</th>\n",
       "      <th>draft_pick</th>\n",
       "      <th>player_id</th>\n",
       "    </tr>\n",
       "  </thead>\n",
       "  <tbody>\n",
       "    <tr>\n",
       "      <th>205</th>\n",
       "      <td>1998</td>\n",
       "      <td>Payton</td>\n",
       "      <td>Pritchard</td>\n",
       "      <td>2020</td>\n",
       "      <td>26.0</td>\n",
       "      <td>205</td>\n",
       "    </tr>\n",
       "    <tr>\n",
       "      <th>162</th>\n",
       "      <td>1997</td>\n",
       "      <td>Terance</td>\n",
       "      <td>Mann</td>\n",
       "      <td>2019</td>\n",
       "      <td>48.0</td>\n",
       "      <td>162</td>\n",
       "    </tr>\n",
       "    <tr>\n",
       "      <th>228</th>\n",
       "      <td>1992</td>\n",
       "      <td>Victor</td>\n",
       "      <td>Oladipo</td>\n",
       "      <td>2013</td>\n",
       "      <td>2.0</td>\n",
       "      <td>228</td>\n",
       "    </tr>\n",
       "    <tr>\n",
       "      <th>221</th>\n",
       "      <td>1998</td>\n",
       "      <td>Furkan</td>\n",
       "      <td>Korkmaz</td>\n",
       "      <td>2016</td>\n",
       "      <td>26.0</td>\n",
       "      <td>221</td>\n",
       "    </tr>\n",
       "    <tr>\n",
       "      <th>429</th>\n",
       "      <td>1992</td>\n",
       "      <td>Rodney</td>\n",
       "      <td>McGruder</td>\n",
       "      <td>2013</td>\n",
       "      <td>20.0</td>\n",
       "      <td>429</td>\n",
       "    </tr>\n",
       "  </tbody>\n",
       "</table>\n",
       "</div>"
      ]
     },
     "metadata": {},
     "execution_count": 356
    }
   ],
   "metadata": {}
  },
  {
   "cell_type": "code",
   "execution_count": 357,
   "source": [
    "player_df.player_id.unique()"
   ],
   "outputs": [
    {
     "output_type": "execute_result",
     "data": {
      "text/plain": [
       "array([  0,   1,   2,   3,   4,   5,   6,   7,   8,   9,  10,  11,  12,\n",
       "        13,  14,  15,  16,  17,  18,  19,  20,  21,  22,  23,  24,  25,\n",
       "        26,  27,  28,  29,  30,  31,  32,  33,  34,  35,  36,  37,  38,\n",
       "        39,  40,  41,  42,  43,  44,  45,  46,  47,  48,  49,  50,  51,\n",
       "        52,  53,  54,  55,  56,  57,  58,  59,  60,  61,  62,  63,  64,\n",
       "        65,  66,  67,  68,  69,  70,  71,  72,  73,  74,  75,  76,  77,\n",
       "        78,  79,  80,  81,  82,  83,  84,  85,  86,  87,  88,  89,  90,\n",
       "        91,  92,  93,  94,  95,  96,  97,  98,  99, 100, 101, 102, 103,\n",
       "       104, 105, 106, 107, 108, 109, 110, 111, 112, 113, 114, 115, 116,\n",
       "       117, 118, 119, 120, 121, 122, 123, 124, 125, 126, 127, 128, 129,\n",
       "       130, 131, 132, 133, 134, 135, 136, 137, 138, 139, 140, 141, 142,\n",
       "       143, 144, 145, 146, 147, 148, 149, 150, 151, 152, 153, 154, 155,\n",
       "       156, 157, 158, 159, 160, 161, 162, 163, 164, 165, 166, 167, 168,\n",
       "       169, 170, 171, 172, 173, 174, 175, 176, 177, 178, 179, 180, 181,\n",
       "       182, 183, 184, 185, 186, 187, 188, 189, 190, 191, 192, 193, 194,\n",
       "       195, 196, 197, 198, 199, 200, 201, 202, 203, 204, 205, 206, 207,\n",
       "       208, 209, 210, 211, 212, 213, 214, 215, 216, 217, 218, 219, 220,\n",
       "       221, 222, 223, 224, 225, 226, 227, 228, 229, 230, 231, 232, 233,\n",
       "       234, 235, 236, 237, 238, 239, 240, 241, 242, 243, 244, 245, 246,\n",
       "       247, 248, 249, 250, 251, 252, 253, 254, 255, 256, 257, 258, 259,\n",
       "       260, 261, 262, 263, 264, 265, 266, 267, 268, 269, 270, 271, 272,\n",
       "       273, 274, 275, 276, 277, 278, 279, 280, 281, 282, 283, 284, 285,\n",
       "       286, 287, 288, 289, 290, 291, 292, 293, 294, 295, 296, 297, 298,\n",
       "       299, 300, 301, 302, 303, 304, 305, 306, 307, 308, 309, 310, 311,\n",
       "       312, 313, 314, 315, 316, 317, 318, 319, 320, 321, 322, 323, 324,\n",
       "       325, 326, 327, 328, 329, 330, 331, 332, 333, 334, 335, 336, 337,\n",
       "       338, 339, 340, 341, 342, 343, 344, 345, 346, 347, 348, 349, 350,\n",
       "       351, 352, 353, 354, 355, 356, 357, 358, 359, 360, 361, 362, 363,\n",
       "       364, 365, 366, 367, 368, 369, 370, 371, 372, 373, 374, 375, 376,\n",
       "       377, 378, 379, 380, 381, 382, 383, 384, 385, 386, 387, 388, 389,\n",
       "       390, 391, 392, 393, 394, 395, 396, 397, 398, 399, 400, 401, 402,\n",
       "       403, 404, 405, 406, 407, 408, 409, 410, 411, 412, 413, 414, 415,\n",
       "       416, 417, 418, 419, 420, 421, 422, 423, 424, 425, 426, 427, 428,\n",
       "       429, 430, 431])"
      ]
     },
     "metadata": {},
     "execution_count": 357
    }
   ],
   "metadata": {}
  }
 ],
 "metadata": {
  "orig_nbformat": 4,
  "language_info": {
   "name": "python",
   "version": "3.9.5",
   "mimetype": "text/x-python",
   "codemirror_mode": {
    "name": "ipython",
    "version": 3
   },
   "pygments_lexer": "ipython3",
   "nbconvert_exporter": "python",
   "file_extension": ".py"
  },
  "kernelspec": {
   "name": "python3",
   "display_name": "Python 3.9.5 64-bit"
  },
  "interpreter": {
   "hash": "aee8b7b246df8f9039afb4144a1f6fd8d2ca17a180786b69acc140d282b71a49"
  }
 },
 "nbformat": 4,
 "nbformat_minor": 2
}