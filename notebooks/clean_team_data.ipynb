{
 "cells": [
  {
   "cell_type": "markdown",
   "source": [
    "# Clean Team Data\n",
    "The nba_teams.csv dataset is a hand-crafted dataset for all primary NBA team infomration. The teams.csv dataset is an outsourced dataset which contains an ID (team_id) which facilitates joining data for game-based statistical information. This cleansing process prepares the teams dataset for insertion into a PostgreSQL instance hosted on AWS RDS."
   ],
   "metadata": {}
  },
  {
   "cell_type": "code",
   "execution_count": 1,
   "source": [
    "import pandas as pd\n",
    "import numpy as np\n",
    "\n",
    "# Setup prettier printing\n",
    "pd.set_option('expand_frame_repr', False)"
   ],
   "outputs": [],
   "metadata": {}
  },
  {
   "cell_type": "code",
   "execution_count": 2,
   "source": [
    "# Read in both datasets\n",
    "teams_df = pd.read_csv(\n",
    "\t'../src/data/raw/nba_teams.csv',\n",
    "\tsep=',',\n",
    "\theader=0,\n",
    "\tencoding='utf-8',\n",
    "\tskip_blank_lines=True\n",
    ")\n",
    "\n",
    "teams_ids = pd.read_csv(\n",
    "\t'../src/data/raw/teams.csv',\n",
    "\tsep=',',\n",
    "\theader=0,\n",
    "\tencoding='utf-8',\n",
    "\tdtype={\n",
    "\t\t'ABBREVIATION': pd.StringDtype(),\n",
    "\t\t'TEAM_ID': pd.Int64Dtype()\n",
    "\t},\n",
    "\tskip_blank_lines=True\n",
    ")\n",
    "\n",
    "# teams_df.head(5)\n",
    "# teams_ids.head(5)"
   ],
   "outputs": [],
   "metadata": {}
  },
  {
   "cell_type": "code",
   "execution_count": 3,
   "source": [
    "# Verify our index column for merging is consistent\n",
    "left_abbr = teams_df.shortname.sort_values().unique()\n",
    "right_abbr = teams_ids['ABBREVIATION'].sort_values().unique()\n",
    "\n",
    "print(np.array_equal(left_abbr, right_abbr))"
   ],
   "outputs": [
    {
     "output_type": "stream",
     "name": "stdout",
     "text": [
      "True\n"
     ]
    }
   ],
   "metadata": {}
  },
  {
   "cell_type": "code",
   "execution_count": 4,
   "source": [
    "# Merge with teams_join dataframe to obtain the stock ID\n",
    "teams_df = pd.merge(\n",
    "\tteams_df,\n",
    "\tteams_ids,\n",
    "\tleft_on='shortname',\n",
    "\tright_on='ABBREVIATION',\n",
    "\thow='left',\n",
    "\tsuffixes=['_left', '_right']\n",
    ")"
   ],
   "outputs": [],
   "metadata": {}
  },
  {
   "cell_type": "code",
   "execution_count": 5,
   "source": [
    "# Drop all columns except for the specified columns\n",
    "teams_df.drop(\n",
    "\tteams_df.columns.difference(['TEAM_ID', 'name', 'shortname', 'city', 'state', 'conference', 'division']),\n",
    "\taxis=1,\n",
    "\tinplace=True\n",
    ")\n",
    "teams_df.columns"
   ],
   "outputs": [
    {
     "output_type": "execute_result",
     "data": {
      "text/plain": [
       "Index(['name', 'shortname', 'city', 'state', 'conference', 'division',\n",
       "       'TEAM_ID'],\n",
       "      dtype='object')"
      ]
     },
     "metadata": {},
     "execution_count": 5
    }
   ],
   "metadata": {}
  },
  {
   "cell_type": "code",
   "execution_count": 6,
   "source": [
    "# Convert headings to lowercase\n",
    "teams_df.columns = teams_df.columns.str.lower()"
   ],
   "outputs": [],
   "metadata": {}
  },
  {
   "cell_type": "code",
   "execution_count": 7,
   "source": [
    "teams_df.set_index('team_id', inplace=True)\n",
    "teams_df.head(10)"
   ],
   "outputs": [
    {
     "output_type": "execute_result",
     "data": {
      "text/plain": [
       "                 name shortname           city  state conference  division\n",
       "team_id                                                                   \n",
       "1610612738    Celtics       BOS         Boston     MA       East  Atlantic\n",
       "1610612751       Nets       BKN       Brooklyn     NY       East  Atlantic\n",
       "1610612752     Knicks       NYK  New York City     NY       East  Atlantic\n",
       "1610612755      76ers       PHI   Philadelphia     PA       East  Atlantic\n",
       "1610612761    Raptors       TOR        Toronto  CA-ON       East  Atlantic\n",
       "1610612741      Bulls       CHI        Chicago     IL       East   Central\n",
       "1610612739  Cavaliers       CLE      Cleveland     OH       East   Central\n",
       "1610612765    Pistons       DET        Detroit     MI       East   Central\n",
       "1610612754     Pacers       IND   Indianapolis     IN       East   Central\n",
       "1610612749      Bucks       MIL      Milwaukee     WI       East   Central"
      ],
      "text/html": [
       "<div>\n",
       "<style scoped>\n",
       "    .dataframe tbody tr th:only-of-type {\n",
       "        vertical-align: middle;\n",
       "    }\n",
       "\n",
       "    .dataframe tbody tr th {\n",
       "        vertical-align: top;\n",
       "    }\n",
       "\n",
       "    .dataframe thead th {\n",
       "        text-align: right;\n",
       "    }\n",
       "</style>\n",
       "<table border=\"1\" class=\"dataframe\">\n",
       "  <thead>\n",
       "    <tr style=\"text-align: right;\">\n",
       "      <th></th>\n",
       "      <th>name</th>\n",
       "      <th>shortname</th>\n",
       "      <th>city</th>\n",
       "      <th>state</th>\n",
       "      <th>conference</th>\n",
       "      <th>division</th>\n",
       "    </tr>\n",
       "    <tr>\n",
       "      <th>team_id</th>\n",
       "      <th></th>\n",
       "      <th></th>\n",
       "      <th></th>\n",
       "      <th></th>\n",
       "      <th></th>\n",
       "      <th></th>\n",
       "    </tr>\n",
       "  </thead>\n",
       "  <tbody>\n",
       "    <tr>\n",
       "      <th>1610612738</th>\n",
       "      <td>Celtics</td>\n",
       "      <td>BOS</td>\n",
       "      <td>Boston</td>\n",
       "      <td>MA</td>\n",
       "      <td>East</td>\n",
       "      <td>Atlantic</td>\n",
       "    </tr>\n",
       "    <tr>\n",
       "      <th>1610612751</th>\n",
       "      <td>Nets</td>\n",
       "      <td>BKN</td>\n",
       "      <td>Brooklyn</td>\n",
       "      <td>NY</td>\n",
       "      <td>East</td>\n",
       "      <td>Atlantic</td>\n",
       "    </tr>\n",
       "    <tr>\n",
       "      <th>1610612752</th>\n",
       "      <td>Knicks</td>\n",
       "      <td>NYK</td>\n",
       "      <td>New York City</td>\n",
       "      <td>NY</td>\n",
       "      <td>East</td>\n",
       "      <td>Atlantic</td>\n",
       "    </tr>\n",
       "    <tr>\n",
       "      <th>1610612755</th>\n",
       "      <td>76ers</td>\n",
       "      <td>PHI</td>\n",
       "      <td>Philadelphia</td>\n",
       "      <td>PA</td>\n",
       "      <td>East</td>\n",
       "      <td>Atlantic</td>\n",
       "    </tr>\n",
       "    <tr>\n",
       "      <th>1610612761</th>\n",
       "      <td>Raptors</td>\n",
       "      <td>TOR</td>\n",
       "      <td>Toronto</td>\n",
       "      <td>CA-ON</td>\n",
       "      <td>East</td>\n",
       "      <td>Atlantic</td>\n",
       "    </tr>\n",
       "    <tr>\n",
       "      <th>1610612741</th>\n",
       "      <td>Bulls</td>\n",
       "      <td>CHI</td>\n",
       "      <td>Chicago</td>\n",
       "      <td>IL</td>\n",
       "      <td>East</td>\n",
       "      <td>Central</td>\n",
       "    </tr>\n",
       "    <tr>\n",
       "      <th>1610612739</th>\n",
       "      <td>Cavaliers</td>\n",
       "      <td>CLE</td>\n",
       "      <td>Cleveland</td>\n",
       "      <td>OH</td>\n",
       "      <td>East</td>\n",
       "      <td>Central</td>\n",
       "    </tr>\n",
       "    <tr>\n",
       "      <th>1610612765</th>\n",
       "      <td>Pistons</td>\n",
       "      <td>DET</td>\n",
       "      <td>Detroit</td>\n",
       "      <td>MI</td>\n",
       "      <td>East</td>\n",
       "      <td>Central</td>\n",
       "    </tr>\n",
       "    <tr>\n",
       "      <th>1610612754</th>\n",
       "      <td>Pacers</td>\n",
       "      <td>IND</td>\n",
       "      <td>Indianapolis</td>\n",
       "      <td>IN</td>\n",
       "      <td>East</td>\n",
       "      <td>Central</td>\n",
       "    </tr>\n",
       "    <tr>\n",
       "      <th>1610612749</th>\n",
       "      <td>Bucks</td>\n",
       "      <td>MIL</td>\n",
       "      <td>Milwaukee</td>\n",
       "      <td>WI</td>\n",
       "      <td>East</td>\n",
       "      <td>Central</td>\n",
       "    </tr>\n",
       "  </tbody>\n",
       "</table>\n",
       "</div>"
      ]
     },
     "metadata": {},
     "execution_count": 7
    }
   ],
   "metadata": {}
  },
  {
   "cell_type": "code",
   "execution_count": 40,
   "source": [
    "# Export intermediate data\n",
    "teams_df.to_csv(path_or_buf='../src/data/intermediate/teams_intermediate.csv')"
   ],
   "outputs": [],
   "metadata": {}
  }
 ],
 "metadata": {
  "orig_nbformat": 4,
  "language_info": {
   "name": "python",
   "version": "3.9.5",
   "mimetype": "text/x-python",
   "codemirror_mode": {
    "name": "ipython",
    "version": 3
   },
   "pygments_lexer": "ipython3",
   "nbconvert_exporter": "python",
   "file_extension": ".py"
  },
  "kernelspec": {
   "name": "python3",
   "display_name": "Python 3.9.5 64-bit"
  },
  "interpreter": {
   "hash": "aee8b7b246df8f9039afb4144a1f6fd8d2ca17a180786b69acc140d282b71a49"
  }
 },
 "nbformat": 4,
 "nbformat_minor": 2
}