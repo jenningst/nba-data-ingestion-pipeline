{
 "cells": [
  {
   "cell_type": "code",
   "execution_count": 10,
   "id": "7e027aa7",
   "metadata": {},
   "outputs": [
    {
     "output_type": "stream",
     "name": "stdout",
     "text": [
      "   LEAGUE_ID     TEAM_ID  MIN_YEAR  MAX_YEAR ABBREVIATION   NICKNAME  \\\n0          0  1610612737      1949      2019          ATL      Hawks   \n1          0  1610612738      1946      2019          BOS    Celtics   \n2          0  1610612740      2002      2019          NOP   Pelicans   \n3          0  1610612741      1966      2019          CHI      Bulls   \n4          0  1610612742      1980      2019          DAL  Mavericks   \n\n   YEARFOUNDED         CITY                     ARENA  ARENACAPACITY  \\\n0         1949      Atlanta          State Farm Arena        18729.0   \n1         1946       Boston                 TD Garden        18624.0   \n2         2002  New Orleans      Smoothie King Center            NaN   \n3         1966      Chicago             United Center        21711.0   \n4         1980       Dallas  American Airlines Center        19200.0   \n\n             OWNER  GENERALMANAGER      HEADCOACH DLEAGUEAFFILIATION  \n0     Tony Ressler  Travis Schlenk   Lloyd Pierce      Erie Bayhawks  \n1    Wyc Grousbeck     Danny Ainge   Brad Stevens    Maine Red Claws  \n2       Tom Benson  Trajan Langdon   Alvin Gentry       No Affiliate  \n3  Jerry Reinsdorf      Gar Forman     Jim Boylen   Windy City Bulls  \n4       Mark Cuban   Donnie Nelson  Rick Carlisle      Texas Legends  \n13\n"
     ]
    }
   ],
   "source": [
    "from data import *\n",
    "import pandas as pd\n",
    "\n",
    "teams = pd.read_csv('data/teams.csv')\n",
    "print(teams.head())\n",
    "print(teams['CITY'].str.len().max())\n",
    "\n",
    "# print(game_details.head(20))"
   ]
  },
  {
   "cell_type": "code",
   "execution_count": null,
   "metadata": {},
   "outputs": [],
   "source": []
  }
 ],
 "metadata": {
  "kernelspec": {
   "name": "python3",
   "display_name": "Python 3.9.5 64-bit"
  },
  "language_info": {
   "codemirror_mode": {
    "name": "ipython",
    "version": 3
   },
   "file_extension": ".py",
   "mimetype": "text/x-python",
   "name": "python",
   "nbconvert_exporter": "python",
   "pygments_lexer": "ipython3",
   "version": "3.9.5"
  },
  "interpreter": {
   "hash": "aee8b7b246df8f9039afb4144a1f6fd8d2ca17a180786b69acc140d282b71a49"
  }
 },
 "nbformat": 4,
 "nbformat_minor": 5
}